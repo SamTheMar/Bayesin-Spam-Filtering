{
 "cells": [
  {
   "cell_type": "markdown",
   "metadata": {},
   "source": [
    "# Spam Filter Based on Naive Bayesian Classifier\n",
    "FAIKR ProjectWork.\n",
    "\n",
    "Author:\n",
    " - Samuele Marino"
   ]
  },
  {
   "cell_type": "markdown",
   "metadata": {},
   "source": [
    "## Introduction"
   ]
  },
  {
   "cell_type": "markdown",
   "metadata": {},
   "source": [
    "Nowadays we get dozens of spam messages every day unless you use well-trained filters. They may be harmful, just annoying or space-consuming, but they also can contain viruses or fishing attempts. In any case, it is not the content we want to deal with. So the demand for good spam filters is always high.\n",
    "\n",
    "One of the pretty effective algorithms for spam filtering is Naive Bayes classification.\n",
    "\n",
    "\n",
    "Most commonly used in email spam filtering, Naive Bayes can be used to classify many different kinds of documents.\n",
    "A document is anything that is being classified by the filter. The class of a document in our case is very simple:\n",
    "something will be classified as either spam or ham. Spam is an unwanted document and ham is a non-spam document.\n",
    "All of the methods discussed here use supervised forms of machine learning. This means that the filter that is created\n",
    "first needs to be trained by previously classified documents provided by the user. Essentially this means that you cannot\n",
    "develop a filter and immediately implement it, because it will not have any basis for classifying a document as spam\n",
    "or ham. But once you do train the filter, no more training is needed as each new document classified additionally trains\n",
    "the filter by simply being classified. There are other implementations that are semi-supervised, where documents that\n",
    "have not been explicitly classified can be used to classify further documents. But in the following models, all the documents \n",
    "that are classified or in the training data are classified as either spam or ham, are not using any semi-supervised techniques.\n",
    "\n",
    "Two methods of Bayesian classification will be explored, those being Multinomial Bayes, and Multivariate Bayes that are modification of Naive Bayes.\n",
    "\n",
    "Although there is already existing implementation in scikit-learn package, I want to recreate the algorithm from scratch: \n",
    " - Firstly, I want to uncover the logic hidden behind the implementation.\n",
    " - Secondly, I want to show the algorithm in conjunction with the dataset preparation."
   ]
  },
  {
   "cell_type": "markdown",
   "metadata": {},
   "source": [
    "## Naive Bayes"
   ]
  },
  {
   "cell_type": "markdown",
   "metadata": {},
   "source": [
    "Naive Bayes must be trained with controlled data that is already defined as spam or ham so the model can be applied to real world situations. Naive Bayes also assumes that the features that it is classifying, in our case the individual words of the email, are independent from one another and we count them with the ignorance of the context. Once the data is given, a filter is created that assigns the probability that each feature is in spam. \n",
    "\n",
    "Probabilities in this case are written as values between 0 and 1.\n",
    "\n",
    "The following image represent the Bayesian Network and shows that the words are independent from each other in the classification of the email, and are all treated equally."
   ]
  },
  {
   "cell_type": "markdown",
   "metadata": {},
   "source": [
    "![Bayesian_Network.png](data:image/png;base64,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)"
   ]
  },
  {
   "cell_type": "markdown",
   "metadata": {},
   "source": [
    "In order to label the document as either spam or ham we need to compute the probability than an email is spam or ham given that the words W are in the email, $P(S|W)$ and $P(H|W)$ respectively.\n",
    "\n",
    "The probability that an email is spam given that the email contains the words W is\n",
    "\\begin{equation*}\n",
    "P(S|W) = \\frac{P(W|S)P(S)}{P(W)}\n",
    "\\end{equation*}\n",
    "where:\n",
    "\\begin{equation*}\n",
    "P(W|S)=P(w_1,w_2,...,w_n|S)=\\prod_{i=1}^{n}P(w_i|S)\n",
    "\\end{equation*}\n",
    "and\n",
    "\\begin{equation*}\n",
    "P(W)=P(W|S)P(S)+P(W|H)P(H) \n",
    "\\end{equation*}\n",
    "\n",
    "$P(H|W)$ can be calculated similarly, so we can say that:\n",
    "\\begin{equation*}\n",
    "P(S|W) \\propto \\prod_{i=1}^{n}P(w_i|S)P(S)\n",
    "\\end{equation*}\n",
    "and \n",
    "\\begin{equation*}\n",
    "P(H|W) \\propto \\prod_{i=1}^{n}P(w_i|H)P(H)\n",
    "\\end{equation*}\n",
    "\n",
    "There is the possibility that same probability is really small, so it's a good idea change the space to $log$ space to prevent underflow.\n",
    "\n",
    "\\begin{equation*}\n",
    "\\ln(P(S|W)) \\propto \\ln(\\prod_{i=1}^{n}P(w_i|S)P(S)) = \\ln(P(S)\\prod_{i=1}^{n}P(w_i|S)) = \\ln(P(S)) + \\sum_{i=1}^{n}\\ln(P(w_i|S))\n",
    "\\end{equation*}\n",
    "\n",
    "The same operation can be applied to $P(H|W)$ "
   ]
  },
  {
   "cell_type": "markdown",
   "metadata": {},
   "source": [
    "## Multinomial Naive Bayes"
   ]
  },
  {
   "cell_type": "markdown",
   "metadata": {},
   "source": [
    "Multinomial Naive Bayes keep track of the number of occurrences of each word. So for the following formulas W represents a multiset of words in the document. This means\n",
    "that W also contains the correct number of occurrences of each word. We can assume that the words are generated following a multinomial distribution and are independent.\n",
    "So we can compute $P(W|S)$.\n",
    "\\begin{equation*}\n",
    "P(W|S) = \\frac{N_{W,S} + \\alpha}{N_S + \\alpha N_V}\n",
    "\\end{equation*}\n",
    "\n",
    "where:\n",
    "- $N_V$ is the number of unique words in the whole dataset.\n",
    "- $N_S$ is the total number of words in the spam messages.\n",
    "- $N_{W,S}$ is the number of occurrences of the word $W$ in all spam messages.\n",
    "- $\\alpha$ is smoothing parameter. It prevents this value from being 0 if there are few occurrences of a particular word. In doing so it prevents our calculation from being highly inaccurate. It also prevents a divide-by-zero error.\n"
   ]
  },
  {
   "cell_type": "markdown",
   "metadata": {},
   "source": [
    "Let's write some code..."
   ]
  },
  {
   "cell_type": "markdown",
   "metadata": {},
   "source": [
    "### Import libraries"
   ]
  },
  {
   "cell_type": "code",
   "execution_count": 1,
   "metadata": {},
   "outputs": [],
   "source": [
    "import pandas as pd\n",
    "from math import log"
   ]
  },
  {
   "cell_type": "markdown",
   "metadata": {},
   "source": [
    "### Dataset"
   ]
  },
  {
   "cell_type": "markdown",
   "metadata": {},
   "source": [
    "I will use the collection of SMS messages, which was put together by Tiago A. Almeida and José María Gómez Hidalgo. It is free and can be downloaded from the [UCI Machine Learning Repository](https://archive.ics.uci.edu/ml/datasets/sms+spam+collection).\n",
    "\n",
    "Dataset structure is simple. It contains two columns:\n",
    "- one for the label “spam/ham”\n",
    "- for the text of the message."
   ]
  },
  {
   "cell_type": "code",
   "execution_count": 2,
   "metadata": {},
   "outputs": [
    {
     "data": {
      "text/html": [
       "<div>\n",
       "<style scoped>\n",
       "    .dataframe tbody tr th:only-of-type {\n",
       "        vertical-align: middle;\n",
       "    }\n",
       "\n",
       "    .dataframe tbody tr th {\n",
       "        vertical-align: top;\n",
       "    }\n",
       "\n",
       "    .dataframe thead th {\n",
       "        text-align: right;\n",
       "    }\n",
       "</style>\n",
       "<table border=\"1\" class=\"dataframe\">\n",
       "  <thead>\n",
       "    <tr style=\"text-align: right;\">\n",
       "      <th></th>\n",
       "      <th>Label</th>\n",
       "      <th>SMS</th>\n",
       "    </tr>\n",
       "  </thead>\n",
       "  <tbody>\n",
       "    <tr>\n",
       "      <th>0</th>\n",
       "      <td>ham</td>\n",
       "      <td>Go until jurong point, crazy.. Available only ...</td>\n",
       "    </tr>\n",
       "    <tr>\n",
       "      <th>1</th>\n",
       "      <td>ham</td>\n",
       "      <td>Ok lar... Joking wif u oni...</td>\n",
       "    </tr>\n",
       "    <tr>\n",
       "      <th>2</th>\n",
       "      <td>spam</td>\n",
       "      <td>Free entry in 2 a wkly comp to win FA Cup fina...</td>\n",
       "    </tr>\n",
       "    <tr>\n",
       "      <th>3</th>\n",
       "      <td>ham</td>\n",
       "      <td>U dun say so early hor... U c already then say...</td>\n",
       "    </tr>\n",
       "    <tr>\n",
       "      <th>4</th>\n",
       "      <td>ham</td>\n",
       "      <td>Nah I don't think he goes to usf, he lives aro...</td>\n",
       "    </tr>\n",
       "  </tbody>\n",
       "</table>\n",
       "</div>"
      ],
      "text/plain": [
       "  Label                                                SMS\n",
       "0   ham  Go until jurong point, crazy.. Available only ...\n",
       "1   ham                      Ok lar... Joking wif u oni...\n",
       "2  spam  Free entry in 2 a wkly comp to win FA Cup fina...\n",
       "3   ham  U dun say so early hor... U c already then say...\n",
       "4   ham  Nah I don't think he goes to usf, he lives aro..."
      ]
     },
     "execution_count": 2,
     "metadata": {},
     "output_type": "execute_result"
    }
   ],
   "source": [
    "url = \"Dataset/SMSSpamCollection\"\n",
    "sms_data = pd.read_csv(url, header=None, sep='\\t', names=['Label', 'SMS'])\n",
    "\n",
    "sms_data.head()"
   ]
  },
  {
   "cell_type": "code",
   "execution_count": 3,
   "metadata": {},
   "outputs": [
    {
     "data": {
      "text/html": [
       "<div>\n",
       "<style scoped>\n",
       "    .dataframe tbody tr th:only-of-type {\n",
       "        vertical-align: middle;\n",
       "    }\n",
       "\n",
       "    .dataframe tbody tr th {\n",
       "        vertical-align: top;\n",
       "    }\n",
       "\n",
       "    .dataframe thead th {\n",
       "        text-align: right;\n",
       "    }\n",
       "</style>\n",
       "<table border=\"1\" class=\"dataframe\">\n",
       "  <thead>\n",
       "    <tr style=\"text-align: right;\">\n",
       "      <th></th>\n",
       "      <th>SMS</th>\n",
       "    </tr>\n",
       "    <tr>\n",
       "      <th>Label</th>\n",
       "      <th></th>\n",
       "    </tr>\n",
       "  </thead>\n",
       "  <tbody>\n",
       "    <tr>\n",
       "      <th>ham</th>\n",
       "      <td>4825</td>\n",
       "    </tr>\n",
       "    <tr>\n",
       "      <th>spam</th>\n",
       "      <td>747</td>\n",
       "    </tr>\n",
       "  </tbody>\n",
       "</table>\n",
       "</div>"
      ],
      "text/plain": [
       "        SMS\n",
       "Label      \n",
       "ham    4825\n",
       "spam    747"
      ]
     },
     "execution_count": 3,
     "metadata": {},
     "output_type": "execute_result"
    }
   ],
   "source": [
    "sms_data.groupby('Label').count()"
   ]
  },
  {
   "cell_type": "markdown",
   "metadata": {},
   "source": [
    "It contains 5572 records of different messages together with 747 spam messages."
   ]
  },
  {
   "cell_type": "markdown",
   "metadata": {},
   "source": [
    "### Preparation"
   ]
  },
  {
   "cell_type": "markdown",
   "metadata": {},
   "source": [
    "Before the algorithm application, I prepare data. First of all, I will remove the punctuation. Then I will convert all the text into the lower-case and split it into the separate words."
   ]
  },
  {
   "cell_type": "code",
   "execution_count": 4,
   "metadata": {},
   "outputs": [],
   "source": [
    "sms_data_clean = sms_data.copy()"
   ]
  },
  {
   "cell_type": "code",
   "execution_count": null,
   "metadata": {},
   "outputs": [],
   "source": [
    "sms_data_clean['SMS'] = sms_data_clean['SMS'].str.replace('\\W+', ' ').str.replace('\\s+', ' ').str.strip()\n",
    "sms_data_clean['SMS'] = sms_data_clean['SMS'].str.lower()\n",
    "sms_data_clean['SMS'] = sms_data_clean['SMS'].str.split()"
   ]
  },
  {
   "cell_type": "code",
   "execution_count": 6,
   "metadata": {},
   "outputs": [
    {
     "data": {
      "text/plain": [
       "0    [go, until, jurong, point, crazy, available, o...\n",
       "1                       [ok, lar, joking, wif, u, oni]\n",
       "2    [free, entry, in, 2, a, wkly, comp, to, win, f...\n",
       "3    [u, dun, say, so, early, hor, u, c, already, t...\n",
       "4    [nah, i, don, t, think, he, goes, to, usf, he,...\n",
       "Name: SMS, dtype: object"
      ]
     },
     "execution_count": 6,
     "metadata": {},
     "output_type": "execute_result"
    }
   ],
   "source": [
    "sms_data_clean['SMS'].head()"
   ]
  },
  {
   "cell_type": "markdown",
   "metadata": {},
   "source": [
    "#### Split to train and test data"
   ]
  },
  {
   "cell_type": "code",
   "execution_count": 7,
   "metadata": {},
   "outputs": [],
   "source": [
    "train_data = sms_data_clean.sample(frac=0.8,random_state=1).reset_index(drop=True)\n",
    "test_data = sms_data_clean.drop(train_data.index).reset_index(drop=True)\n",
    "train_data = train_data.reset_index(drop=True)"
   ]
  },
  {
   "cell_type": "code",
   "execution_count": 8,
   "metadata": {},
   "outputs": [
    {
     "name": "stdout",
     "output_type": "stream",
     "text": [
      "The number of sample in the train data is: 4458\n"
     ]
    },
    {
     "data": {
      "text/plain": [
       "ham     86.54105\n",
       "spam    13.45895\n",
       "Name: Label, dtype: float64"
      ]
     },
     "execution_count": 8,
     "metadata": {},
     "output_type": "execute_result"
    }
   ],
   "source": [
    "print(f'The number of sample in the train data is: {train_data.shape[0]}')\n",
    "train_data['Label'].value_counts() / train_data.shape[0] * 100"
   ]
  },
  {
   "cell_type": "code",
   "execution_count": 9,
   "metadata": {},
   "outputs": [
    {
     "name": "stdout",
     "output_type": "stream",
     "text": [
      "The number of sample in the test data is: 1114\n"
     ]
    },
    {
     "data": {
      "text/plain": [
       "ham     86.983842\n",
       "spam    13.016158\n",
       "Name: Label, dtype: float64"
      ]
     },
     "execution_count": 9,
     "metadata": {},
     "output_type": "execute_result"
    }
   ],
   "source": [
    "print(f'The number of sample in the test data is: {test_data.shape[0]}')\n",
    "test_data['Label'].value_counts() / test_data.shape[0] * 100"
   ]
  },
  {
   "cell_type": "code",
   "execution_count": 10,
   "metadata": {},
   "outputs": [
    {
     "data": {
      "text/html": [
       "<div>\n",
       "<style scoped>\n",
       "    .dataframe tbody tr th:only-of-type {\n",
       "        vertical-align: middle;\n",
       "    }\n",
       "\n",
       "    .dataframe tbody tr th {\n",
       "        vertical-align: top;\n",
       "    }\n",
       "\n",
       "    .dataframe thead th {\n",
       "        text-align: right;\n",
       "    }\n",
       "</style>\n",
       "<table border=\"1\" class=\"dataframe\">\n",
       "  <thead>\n",
       "    <tr style=\"text-align: right;\">\n",
       "      <th></th>\n",
       "      <th>Label</th>\n",
       "      <th>SMS</th>\n",
       "    </tr>\n",
       "  </thead>\n",
       "  <tbody>\n",
       "    <tr>\n",
       "      <th>0</th>\n",
       "      <td>ham</td>\n",
       "      <td>[aight, should, i, just, plan, to, come, up, l...</td>\n",
       "    </tr>\n",
       "    <tr>\n",
       "      <th>1</th>\n",
       "      <td>ham</td>\n",
       "      <td>[die, i, accidentally, deleted, e, msg, i, sup...</td>\n",
       "    </tr>\n",
       "    <tr>\n",
       "      <th>2</th>\n",
       "      <td>spam</td>\n",
       "      <td>[welcome, to, uk, mobile, date, this, msg, is,...</td>\n",
       "    </tr>\n",
       "    <tr>\n",
       "      <th>3</th>\n",
       "      <td>ham</td>\n",
       "      <td>[this, is, wishing, you, a, great, day, moji, ...</td>\n",
       "    </tr>\n",
       "    <tr>\n",
       "      <th>4</th>\n",
       "      <td>ham</td>\n",
       "      <td>[thanks, again, for, your, reply, today, when,...</td>\n",
       "    </tr>\n",
       "  </tbody>\n",
       "</table>\n",
       "</div>"
      ],
      "text/plain": [
       "  Label                                                SMS\n",
       "0   ham  [aight, should, i, just, plan, to, come, up, l...\n",
       "1   ham  [die, i, accidentally, deleted, e, msg, i, sup...\n",
       "2  spam  [welcome, to, uk, mobile, date, this, msg, is,...\n",
       "3   ham  [this, is, wishing, you, a, great, day, moji, ...\n",
       "4   ham  [thanks, again, for, your, reply, today, when,..."
      ]
     },
     "execution_count": 10,
     "metadata": {},
     "output_type": "execute_result"
    }
   ],
   "source": [
    "test_data.head()"
   ]
  },
  {
   "cell_type": "markdown",
   "metadata": {},
   "source": [
    "### Prepare vocabulary"
   ]
  },
  {
   "cell_type": "markdown",
   "metadata": {},
   "source": [
    "I prepare the vocabulary and count the number of separate words in each message."
   ]
  },
  {
   "cell_type": "code",
   "execution_count": 11,
   "metadata": {},
   "outputs": [
    {
     "name": "stdout",
     "output_type": "stream",
     "text": [
      "The length of the vocabulary is: 7783\n"
     ]
    }
   ],
   "source": [
    "vocabulary = list(dict.fromkeys(train_data['SMS'].sum()))\n",
    "print(f'The length of the vocabulary is: {len(vocabulary)}')"
   ]
  },
  {
   "cell_type": "markdown",
   "metadata": {},
   "source": [
    "#### Calculate frequencies of the words for each message"
   ]
  },
  {
   "cell_type": "code",
   "execution_count": 12,
   "metadata": {},
   "outputs": [],
   "source": [
    "word_counts_per_sms = pd.DataFrame([\n",
    "    [row[1].count(word) for word in vocabulary]\n",
    "    for _, row in train_data.iterrows()], columns=vocabulary)\n"
   ]
  },
  {
   "cell_type": "markdown",
   "metadata": {},
   "source": [
    "Concat the resulting table of words count to our train data:"
   ]
  },
  {
   "cell_type": "code",
   "execution_count": 13,
   "metadata": {},
   "outputs": [],
   "source": [
    "train_data_multinomial = pd.concat([train_data.reset_index(), word_counts_per_sms], axis=1).iloc[:,1:]"
   ]
  },
  {
   "cell_type": "code",
   "execution_count": 14,
   "metadata": {},
   "outputs": [
    {
     "data": {
      "text/html": [
       "<div>\n",
       "<style scoped>\n",
       "    .dataframe tbody tr th:only-of-type {\n",
       "        vertical-align: middle;\n",
       "    }\n",
       "\n",
       "    .dataframe tbody tr th {\n",
       "        vertical-align: top;\n",
       "    }\n",
       "\n",
       "    .dataframe thead th {\n",
       "        text-align: right;\n",
       "    }\n",
       "</style>\n",
       "<table border=\"1\" class=\"dataframe\">\n",
       "  <thead>\n",
       "    <tr style=\"text-align: right;\">\n",
       "      <th></th>\n",
       "      <th>Label</th>\n",
       "      <th>SMS</th>\n",
       "      <th>yep</th>\n",
       "      <th>by</th>\n",
       "      <th>the</th>\n",
       "      <th>pretty</th>\n",
       "      <th>sculpture</th>\n",
       "      <th>yes</th>\n",
       "      <th>princess</th>\n",
       "      <th>are</th>\n",
       "      <th>...</th>\n",
       "      <th>beauty</th>\n",
       "      <th>hides</th>\n",
       "      <th>secrets</th>\n",
       "      <th>n8</th>\n",
       "      <th>jewelry</th>\n",
       "      <th>related</th>\n",
       "      <th>trade</th>\n",
       "      <th>arul</th>\n",
       "      <th>bx526</th>\n",
       "      <th>wherre</th>\n",
       "    </tr>\n",
       "  </thead>\n",
       "  <tbody>\n",
       "    <tr>\n",
       "      <th>0</th>\n",
       "      <td>ham</td>\n",
       "      <td>[yep, yep, yep, by, the, pretty, sculpture]</td>\n",
       "      <td>3</td>\n",
       "      <td>1</td>\n",
       "      <td>1</td>\n",
       "      <td>1</td>\n",
       "      <td>1</td>\n",
       "      <td>0</td>\n",
       "      <td>0</td>\n",
       "      <td>0</td>\n",
       "      <td>...</td>\n",
       "      <td>0</td>\n",
       "      <td>0</td>\n",
       "      <td>0</td>\n",
       "      <td>0</td>\n",
       "      <td>0</td>\n",
       "      <td>0</td>\n",
       "      <td>0</td>\n",
       "      <td>0</td>\n",
       "      <td>0</td>\n",
       "      <td>0</td>\n",
       "    </tr>\n",
       "    <tr>\n",
       "      <th>1</th>\n",
       "      <td>ham</td>\n",
       "      <td>[yes, princess, are, you, going, to, make, me,...</td>\n",
       "      <td>0</td>\n",
       "      <td>0</td>\n",
       "      <td>0</td>\n",
       "      <td>0</td>\n",
       "      <td>0</td>\n",
       "      <td>1</td>\n",
       "      <td>1</td>\n",
       "      <td>1</td>\n",
       "      <td>...</td>\n",
       "      <td>0</td>\n",
       "      <td>0</td>\n",
       "      <td>0</td>\n",
       "      <td>0</td>\n",
       "      <td>0</td>\n",
       "      <td>0</td>\n",
       "      <td>0</td>\n",
       "      <td>0</td>\n",
       "      <td>0</td>\n",
       "      <td>0</td>\n",
       "    </tr>\n",
       "    <tr>\n",
       "      <th>2</th>\n",
       "      <td>ham</td>\n",
       "      <td>[welp, apparently, he, retired]</td>\n",
       "      <td>0</td>\n",
       "      <td>0</td>\n",
       "      <td>0</td>\n",
       "      <td>0</td>\n",
       "      <td>0</td>\n",
       "      <td>0</td>\n",
       "      <td>0</td>\n",
       "      <td>0</td>\n",
       "      <td>...</td>\n",
       "      <td>0</td>\n",
       "      <td>0</td>\n",
       "      <td>0</td>\n",
       "      <td>0</td>\n",
       "      <td>0</td>\n",
       "      <td>0</td>\n",
       "      <td>0</td>\n",
       "      <td>0</td>\n",
       "      <td>0</td>\n",
       "      <td>0</td>\n",
       "    </tr>\n",
       "    <tr>\n",
       "      <th>3</th>\n",
       "      <td>ham</td>\n",
       "      <td>[havent]</td>\n",
       "      <td>0</td>\n",
       "      <td>0</td>\n",
       "      <td>0</td>\n",
       "      <td>0</td>\n",
       "      <td>0</td>\n",
       "      <td>0</td>\n",
       "      <td>0</td>\n",
       "      <td>0</td>\n",
       "      <td>...</td>\n",
       "      <td>0</td>\n",
       "      <td>0</td>\n",
       "      <td>0</td>\n",
       "      <td>0</td>\n",
       "      <td>0</td>\n",
       "      <td>0</td>\n",
       "      <td>0</td>\n",
       "      <td>0</td>\n",
       "      <td>0</td>\n",
       "      <td>0</td>\n",
       "    </tr>\n",
       "    <tr>\n",
       "      <th>4</th>\n",
       "      <td>ham</td>\n",
       "      <td>[i, forgot, 2, ask, ü, all, smth, there, s, a,...</td>\n",
       "      <td>0</td>\n",
       "      <td>0</td>\n",
       "      <td>0</td>\n",
       "      <td>0</td>\n",
       "      <td>0</td>\n",
       "      <td>0</td>\n",
       "      <td>0</td>\n",
       "      <td>0</td>\n",
       "      <td>...</td>\n",
       "      <td>0</td>\n",
       "      <td>0</td>\n",
       "      <td>0</td>\n",
       "      <td>0</td>\n",
       "      <td>0</td>\n",
       "      <td>0</td>\n",
       "      <td>0</td>\n",
       "      <td>0</td>\n",
       "      <td>0</td>\n",
       "      <td>0</td>\n",
       "    </tr>\n",
       "  </tbody>\n",
       "</table>\n",
       "<p>5 rows × 7785 columns</p>\n",
       "</div>"
      ],
      "text/plain": [
       "  Label                                                SMS  yep  by  the  \\\n",
       "0   ham        [yep, yep, yep, by, the, pretty, sculpture]    3   1    1   \n",
       "1   ham  [yes, princess, are, you, going, to, make, me,...    0   0    0   \n",
       "2   ham                    [welp, apparently, he, retired]    0   0    0   \n",
       "3   ham                                           [havent]    0   0    0   \n",
       "4   ham  [i, forgot, 2, ask, ü, all, smth, there, s, a,...    0   0    0   \n",
       "\n",
       "   pretty  sculpture  yes  princess  are  ...  beauty  hides  secrets  n8  \\\n",
       "0       1          1    0         0    0  ...       0      0        0   0   \n",
       "1       0          0    1         1    1  ...       0      0        0   0   \n",
       "2       0          0    0         0    0  ...       0      0        0   0   \n",
       "3       0          0    0         0    0  ...       0      0        0   0   \n",
       "4       0          0    0         0    0  ...       0      0        0   0   \n",
       "\n",
       "   jewelry  related  trade  arul  bx526  wherre  \n",
       "0        0        0      0     0      0       0  \n",
       "1        0        0      0     0      0       0  \n",
       "2        0        0      0     0      0       0  \n",
       "3        0        0      0     0      0       0  \n",
       "4        0        0      0     0      0       0  \n",
       "\n",
       "[5 rows x 7785 columns]"
      ]
     },
     "execution_count": 14,
     "metadata": {},
     "output_type": "execute_result"
    }
   ],
   "source": [
    "train_data_multinomial.head()"
   ]
  },
  {
   "cell_type": "markdown",
   "metadata": {},
   "source": [
    "### Calculate values for the Bayes formula"
   ]
  },
  {
   "cell_type": "code",
   "execution_count": 35,
   "metadata": {},
   "outputs": [],
   "source": [
    "alpha = 1\n",
    "Nvoc = len(vocabulary)\n",
    "Pspam = train_data['Label'].value_counts()['spam'] / train_data.shape[0]\n",
    "Pham = train_data['Label'].value_counts()['ham'] / train_data.shape[0]\n",
    "Nspam = train_data.loc[train_data['Label'] == 'spam', 'SMS'].apply(len).sum()\n",
    "Nham = train_data.loc[train_data['Label'] == 'ham', 'SMS'].apply(len).sum()"
   ]
  },
  {
   "cell_type": "markdown",
   "metadata": {},
   "source": [
    "To complete the formula we will define the functions to determine the probabilities of the given word to belong to spam and non-spam messages:"
   ]
  },
  {
   "cell_type": "code",
   "execution_count": 20,
   "metadata": {},
   "outputs": [],
   "source": [
    "def p_w_spam(word):\n",
    "    if word in train_data_multinomial.columns:\n",
    "        Nwspam = train_data_multinomial.loc[train_data_multinomial['Label'] == 'spam', word].sum()\n",
    "        return (Nwspam + alpha) / (Nspam + alpha*Nvoc)\n",
    "    else:\n",
    "        return 1\n",
    "\n",
    "\n",
    "def p_w_ham(word):\n",
    "    if word in train_data_multinomial.columns:\n",
    "        Nwham = train_data_multinomial.loc[train_data_multinomial['Label'] == 'ham', word].sum()\n",
    "        return (Nwham + alpha) / (Nham + alpha*Nvoc)\n",
    "    else:\n",
    "        return 1"
   ]
  },
  {
   "cell_type": "markdown",
   "metadata": {},
   "source": [
    "#### Prepare the classificator"
   ]
  },
  {
   "cell_type": "code",
   "execution_count": 18,
   "metadata": {},
   "outputs": [],
   "source": [
    "def log_classify(message):\n",
    "    p_spam_given_message = log(Pspam)\n",
    "    p_ham_given_message = log(Pham)\n",
    "    for word in message:\n",
    "        p_spam_given_message += log(p_w_spam(word))\n",
    "        p_ham_given_message += log(p_w_ham(word))\n",
    "    if p_ham_given_message > p_spam_given_message:\n",
    "        return 'ham'\n",
    "    elif p_ham_given_message < p_spam_given_message:\n",
    "        return 'spam'\n",
    "    else:\n",
    "        return 'needs human classification'\n"
   ]
  },
  {
   "cell_type": "markdown",
   "metadata": {},
   "source": [
    "### Testing on the data test"
   ]
  },
  {
   "cell_type": "code",
   "execution_count": 36,
   "metadata": {},
   "outputs": [],
   "source": [
    "test_data['predicted Multinomial'] = test_data['SMS'].apply(log_classify)"
   ]
  },
  {
   "cell_type": "code",
   "execution_count": 37,
   "metadata": {},
   "outputs": [
    {
     "data": {
      "text/html": [
       "<div>\n",
       "<style scoped>\n",
       "    .dataframe tbody tr th:only-of-type {\n",
       "        vertical-align: middle;\n",
       "    }\n",
       "\n",
       "    .dataframe tbody tr th {\n",
       "        vertical-align: top;\n",
       "    }\n",
       "\n",
       "    .dataframe thead th {\n",
       "        text-align: right;\n",
       "    }\n",
       "</style>\n",
       "<table border=\"1\" class=\"dataframe\">\n",
       "  <thead>\n",
       "    <tr style=\"text-align: right;\">\n",
       "      <th></th>\n",
       "      <th>Label</th>\n",
       "      <th>SMS</th>\n",
       "      <th>predicted Multinomial</th>\n",
       "      <th>predicted Multivariate</th>\n",
       "    </tr>\n",
       "  </thead>\n",
       "  <tbody>\n",
       "    <tr>\n",
       "      <th>0</th>\n",
       "      <td>ham</td>\n",
       "      <td>[aight, should, i, just, plan, to, come, up, l...</td>\n",
       "      <td>ham</td>\n",
       "      <td>ham</td>\n",
       "    </tr>\n",
       "    <tr>\n",
       "      <th>1</th>\n",
       "      <td>ham</td>\n",
       "      <td>[die, i, accidentally, deleted, e, msg, i, sup...</td>\n",
       "      <td>ham</td>\n",
       "      <td>ham</td>\n",
       "    </tr>\n",
       "    <tr>\n",
       "      <th>2</th>\n",
       "      <td>spam</td>\n",
       "      <td>[welcome, to, uk, mobile, date, this, msg, is,...</td>\n",
       "      <td>spam</td>\n",
       "      <td>spam</td>\n",
       "    </tr>\n",
       "    <tr>\n",
       "      <th>3</th>\n",
       "      <td>ham</td>\n",
       "      <td>[this, is, wishing, you, a, great, day, moji, ...</td>\n",
       "      <td>ham</td>\n",
       "      <td>ham</td>\n",
       "    </tr>\n",
       "    <tr>\n",
       "      <th>4</th>\n",
       "      <td>ham</td>\n",
       "      <td>[thanks, again, for, your, reply, today, when,...</td>\n",
       "      <td>ham</td>\n",
       "      <td>ham</td>\n",
       "    </tr>\n",
       "  </tbody>\n",
       "</table>\n",
       "</div>"
      ],
      "text/plain": [
       "  Label                                                SMS  \\\n",
       "0   ham  [aight, should, i, just, plan, to, come, up, l...   \n",
       "1   ham  [die, i, accidentally, deleted, e, msg, i, sup...   \n",
       "2  spam  [welcome, to, uk, mobile, date, this, msg, is,...   \n",
       "3   ham  [this, is, wishing, you, a, great, day, moji, ...   \n",
       "4   ham  [thanks, again, for, your, reply, today, when,...   \n",
       "\n",
       "  predicted Multinomial predicted Multivariate  \n",
       "0                   ham                    ham  \n",
       "1                   ham                    ham  \n",
       "2                  spam                   spam  \n",
       "3                   ham                    ham  \n",
       "4                   ham                    ham  "
      ]
     },
     "execution_count": 37,
     "metadata": {},
     "output_type": "execute_result"
    }
   ],
   "source": [
    "test_data.head()"
   ]
  },
  {
   "cell_type": "code",
   "execution_count": 38,
   "metadata": {},
   "outputs": [
    {
     "name": "stdout",
     "output_type": "stream",
     "text": [
      "The correct prediction are 99.19%\n"
     ]
    }
   ],
   "source": [
    "correct = (test_data['predicted Multinomial'] == test_data['Label']).sum() / test_data.shape[0] * 100\n",
    "print(f'The correct prediction are {correct:.2f}%')"
   ]
  },
  {
   "cell_type": "markdown",
   "metadata": {},
   "source": [
    "Uncorrect Prediction"
   ]
  },
  {
   "cell_type": "code",
   "execution_count": 24,
   "metadata": {},
   "outputs": [
    {
     "data": {
      "text/html": [
       "<div>\n",
       "<style scoped>\n",
       "    .dataframe tbody tr th:only-of-type {\n",
       "        vertical-align: middle;\n",
       "    }\n",
       "\n",
       "    .dataframe tbody tr th {\n",
       "        vertical-align: top;\n",
       "    }\n",
       "\n",
       "    .dataframe thead th {\n",
       "        text-align: right;\n",
       "    }\n",
       "</style>\n",
       "<table border=\"1\" class=\"dataframe\">\n",
       "  <thead>\n",
       "    <tr style=\"text-align: right;\">\n",
       "      <th></th>\n",
       "      <th>Label</th>\n",
       "      <th>SMS</th>\n",
       "      <th>predicted Multinomial</th>\n",
       "    </tr>\n",
       "  </thead>\n",
       "  <tbody>\n",
       "    <tr>\n",
       "      <th>56</th>\n",
       "      <td>spam</td>\n",
       "      <td>[money, i, have, won, wining, number, 946, wot...</td>\n",
       "      <td>ham</td>\n",
       "    </tr>\n",
       "    <tr>\n",
       "      <th>218</th>\n",
       "      <td>spam</td>\n",
       "      <td>[hi, babe, its, chloe, how, r, u, i, was, smas...</td>\n",
       "      <td>ham</td>\n",
       "    </tr>\n",
       "    <tr>\n",
       "      <th>404</th>\n",
       "      <td>ham</td>\n",
       "      <td>[nokia, phone, is, lovly]</td>\n",
       "      <td>spam</td>\n",
       "    </tr>\n",
       "    <tr>\n",
       "      <th>473</th>\n",
       "      <td>spam</td>\n",
       "      <td>[hi, the, sexychat, girls, are, waiting, for, ...</td>\n",
       "      <td>ham</td>\n",
       "    </tr>\n",
       "    <tr>\n",
       "      <th>491</th>\n",
       "      <td>spam</td>\n",
       "      <td>[hi, this, is, amy, we, will, be, sending, you...</td>\n",
       "      <td>ham</td>\n",
       "    </tr>\n",
       "    <tr>\n",
       "      <th>579</th>\n",
       "      <td>spam</td>\n",
       "      <td>[you, won, t, believe, it, but, it, s, true, i...</td>\n",
       "      <td>ham</td>\n",
       "    </tr>\n",
       "    <tr>\n",
       "      <th>588</th>\n",
       "      <td>ham</td>\n",
       "      <td>[we, have, sent, jd, for, customer, service, c...</td>\n",
       "      <td>spam</td>\n",
       "    </tr>\n",
       "    <tr>\n",
       "      <th>912</th>\n",
       "      <td>spam</td>\n",
       "      <td>[dating, i, have, had, two, of, these, only, s...</td>\n",
       "      <td>ham</td>\n",
       "    </tr>\n",
       "  </tbody>\n",
       "</table>\n",
       "</div>"
      ],
      "text/plain": [
       "    Label                                                SMS  \\\n",
       "56   spam  [money, i, have, won, wining, number, 946, wot...   \n",
       "218  spam  [hi, babe, its, chloe, how, r, u, i, was, smas...   \n",
       "404   ham                          [nokia, phone, is, lovly]   \n",
       "473  spam  [hi, the, sexychat, girls, are, waiting, for, ...   \n",
       "491  spam  [hi, this, is, amy, we, will, be, sending, you...   \n",
       "579  spam  [you, won, t, believe, it, but, it, s, true, i...   \n",
       "588   ham  [we, have, sent, jd, for, customer, service, c...   \n",
       "912  spam  [dating, i, have, had, two, of, these, only, s...   \n",
       "\n",
       "    predicted Multinomial  \n",
       "56                    ham  \n",
       "218                   ham  \n",
       "404                  spam  \n",
       "473                   ham  \n",
       "491                   ham  \n",
       "579                   ham  \n",
       "588                  spam  \n",
       "912                   ham  "
      ]
     },
     "execution_count": 24,
     "metadata": {},
     "output_type": "execute_result"
    }
   ],
   "source": [
    "test_data.loc[test_data['predicted Multinomial'] != test_data['Label']]"
   ]
  },
  {
   "cell_type": "markdown",
   "metadata": {},
   "source": [
    "## Multivariate Naive Bayes"
   ]
  },
  {
   "cell_type": "markdown",
   "metadata": {},
   "source": [
    "Multivariate Naive Bayes, also known as Bernoulli Naive Bayes is a method that is closely related to Multinomial Bayes. Similar to the multinomial approach, it treats each feature individually. This means that W contains either true(1) or false(0) for each word, instead of containing the counting of the words themselves. Note that Multivariate Bayes is still naive, so each feature is still independent from all other features. We can find the probabilities of the parameters in a similar fashion to Multinomial Bayes, resulting in the following equation:\n",
    "\\begin{equation*}\n",
    "P(W|S) = \\frac{1 + N_{W,S}}{2 + N_S}\n",
    "\\end{equation*}\n",
    "\n",
    "where:\n",
    "- $N_S$ is the total number of email that are classified as spam\n",
    "- $N_{W,S}$ is the total number of training spam email that contain the word $W$\n",
    "- 1 and 2 are smoothing parameter.\n",
    "\n",
    "Multivariate Bayes does not keep track of the number of occurrences of features, unlike Multinomnial Bayes, which means that Multivariate Bayes scales better.\n",
    "\n",
    "Let's modify the below implementation..."
   ]
  },
  {
   "cell_type": "markdown",
   "metadata": {},
   "source": [
    "#### Calculate presences of the words for each message"
   ]
  },
  {
   "cell_type": "code",
   "execution_count": 25,
   "metadata": {},
   "outputs": [],
   "source": [
    "word_presences_per_sms = pd.DataFrame([\n",
    "    [1 if word in row[1] else 0 for word in vocabulary]\n",
    "    for _, row in train_data.iterrows()], columns=vocabulary)\n"
   ]
  },
  {
   "cell_type": "markdown",
   "metadata": {},
   "source": [
    "Concat the resulting table"
   ]
  },
  {
   "cell_type": "code",
   "execution_count": 26,
   "metadata": {},
   "outputs": [],
   "source": [
    "train_data_multivariate = pd.concat([train_data.reset_index(), word_presences_per_sms], axis=1).iloc[:,1:]"
   ]
  },
  {
   "cell_type": "code",
   "execution_count": 27,
   "metadata": {},
   "outputs": [
    {
     "data": {
      "text/html": [
       "<div>\n",
       "<style scoped>\n",
       "    .dataframe tbody tr th:only-of-type {\n",
       "        vertical-align: middle;\n",
       "    }\n",
       "\n",
       "    .dataframe tbody tr th {\n",
       "        vertical-align: top;\n",
       "    }\n",
       "\n",
       "    .dataframe thead th {\n",
       "        text-align: right;\n",
       "    }\n",
       "</style>\n",
       "<table border=\"1\" class=\"dataframe\">\n",
       "  <thead>\n",
       "    <tr style=\"text-align: right;\">\n",
       "      <th></th>\n",
       "      <th>Label</th>\n",
       "      <th>SMS</th>\n",
       "      <th>yep</th>\n",
       "      <th>by</th>\n",
       "      <th>the</th>\n",
       "      <th>pretty</th>\n",
       "      <th>sculpture</th>\n",
       "      <th>yes</th>\n",
       "      <th>princess</th>\n",
       "      <th>are</th>\n",
       "      <th>...</th>\n",
       "      <th>beauty</th>\n",
       "      <th>hides</th>\n",
       "      <th>secrets</th>\n",
       "      <th>n8</th>\n",
       "      <th>jewelry</th>\n",
       "      <th>related</th>\n",
       "      <th>trade</th>\n",
       "      <th>arul</th>\n",
       "      <th>bx526</th>\n",
       "      <th>wherre</th>\n",
       "    </tr>\n",
       "  </thead>\n",
       "  <tbody>\n",
       "    <tr>\n",
       "      <th>0</th>\n",
       "      <td>ham</td>\n",
       "      <td>[yep, yep, yep, by, the, pretty, sculpture]</td>\n",
       "      <td>1</td>\n",
       "      <td>1</td>\n",
       "      <td>1</td>\n",
       "      <td>1</td>\n",
       "      <td>1</td>\n",
       "      <td>0</td>\n",
       "      <td>0</td>\n",
       "      <td>0</td>\n",
       "      <td>...</td>\n",
       "      <td>0</td>\n",
       "      <td>0</td>\n",
       "      <td>0</td>\n",
       "      <td>0</td>\n",
       "      <td>0</td>\n",
       "      <td>0</td>\n",
       "      <td>0</td>\n",
       "      <td>0</td>\n",
       "      <td>0</td>\n",
       "      <td>0</td>\n",
       "    </tr>\n",
       "    <tr>\n",
       "      <th>1</th>\n",
       "      <td>ham</td>\n",
       "      <td>[yes, princess, are, you, going, to, make, me,...</td>\n",
       "      <td>0</td>\n",
       "      <td>0</td>\n",
       "      <td>0</td>\n",
       "      <td>0</td>\n",
       "      <td>0</td>\n",
       "      <td>1</td>\n",
       "      <td>1</td>\n",
       "      <td>1</td>\n",
       "      <td>...</td>\n",
       "      <td>0</td>\n",
       "      <td>0</td>\n",
       "      <td>0</td>\n",
       "      <td>0</td>\n",
       "      <td>0</td>\n",
       "      <td>0</td>\n",
       "      <td>0</td>\n",
       "      <td>0</td>\n",
       "      <td>0</td>\n",
       "      <td>0</td>\n",
       "    </tr>\n",
       "    <tr>\n",
       "      <th>2</th>\n",
       "      <td>ham</td>\n",
       "      <td>[welp, apparently, he, retired]</td>\n",
       "      <td>0</td>\n",
       "      <td>0</td>\n",
       "      <td>0</td>\n",
       "      <td>0</td>\n",
       "      <td>0</td>\n",
       "      <td>0</td>\n",
       "      <td>0</td>\n",
       "      <td>0</td>\n",
       "      <td>...</td>\n",
       "      <td>0</td>\n",
       "      <td>0</td>\n",
       "      <td>0</td>\n",
       "      <td>0</td>\n",
       "      <td>0</td>\n",
       "      <td>0</td>\n",
       "      <td>0</td>\n",
       "      <td>0</td>\n",
       "      <td>0</td>\n",
       "      <td>0</td>\n",
       "    </tr>\n",
       "    <tr>\n",
       "      <th>3</th>\n",
       "      <td>ham</td>\n",
       "      <td>[havent]</td>\n",
       "      <td>0</td>\n",
       "      <td>0</td>\n",
       "      <td>0</td>\n",
       "      <td>0</td>\n",
       "      <td>0</td>\n",
       "      <td>0</td>\n",
       "      <td>0</td>\n",
       "      <td>0</td>\n",
       "      <td>...</td>\n",
       "      <td>0</td>\n",
       "      <td>0</td>\n",
       "      <td>0</td>\n",
       "      <td>0</td>\n",
       "      <td>0</td>\n",
       "      <td>0</td>\n",
       "      <td>0</td>\n",
       "      <td>0</td>\n",
       "      <td>0</td>\n",
       "      <td>0</td>\n",
       "    </tr>\n",
       "    <tr>\n",
       "      <th>4</th>\n",
       "      <td>ham</td>\n",
       "      <td>[i, forgot, 2, ask, ü, all, smth, there, s, a,...</td>\n",
       "      <td>0</td>\n",
       "      <td>0</td>\n",
       "      <td>0</td>\n",
       "      <td>0</td>\n",
       "      <td>0</td>\n",
       "      <td>0</td>\n",
       "      <td>0</td>\n",
       "      <td>0</td>\n",
       "      <td>...</td>\n",
       "      <td>0</td>\n",
       "      <td>0</td>\n",
       "      <td>0</td>\n",
       "      <td>0</td>\n",
       "      <td>0</td>\n",
       "      <td>0</td>\n",
       "      <td>0</td>\n",
       "      <td>0</td>\n",
       "      <td>0</td>\n",
       "      <td>0</td>\n",
       "    </tr>\n",
       "  </tbody>\n",
       "</table>\n",
       "<p>5 rows × 7785 columns</p>\n",
       "</div>"
      ],
      "text/plain": [
       "  Label                                                SMS  yep  by  the  \\\n",
       "0   ham        [yep, yep, yep, by, the, pretty, sculpture]    1   1    1   \n",
       "1   ham  [yes, princess, are, you, going, to, make, me,...    0   0    0   \n",
       "2   ham                    [welp, apparently, he, retired]    0   0    0   \n",
       "3   ham                                           [havent]    0   0    0   \n",
       "4   ham  [i, forgot, 2, ask, ü, all, smth, there, s, a,...    0   0    0   \n",
       "\n",
       "   pretty  sculpture  yes  princess  are  ...  beauty  hides  secrets  n8  \\\n",
       "0       1          1    0         0    0  ...       0      0        0   0   \n",
       "1       0          0    1         1    1  ...       0      0        0   0   \n",
       "2       0          0    0         0    0  ...       0      0        0   0   \n",
       "3       0          0    0         0    0  ...       0      0        0   0   \n",
       "4       0          0    0         0    0  ...       0      0        0   0   \n",
       "\n",
       "   jewelry  related  trade  arul  bx526  wherre  \n",
       "0        0        0      0     0      0       0  \n",
       "1        0        0      0     0      0       0  \n",
       "2        0        0      0     0      0       0  \n",
       "3        0        0      0     0      0       0  \n",
       "4        0        0      0     0      0       0  \n",
       "\n",
       "[5 rows x 7785 columns]"
      ]
     },
     "execution_count": 27,
     "metadata": {},
     "output_type": "execute_result"
    }
   ],
   "source": [
    "train_data_multivariate.head()"
   ]
  },
  {
   "cell_type": "markdown",
   "metadata": {},
   "source": [
    "### Rewrite probabilities of the given word to belong to spam and non-spam messages:"
   ]
  },
  {
   "cell_type": "code",
   "execution_count": 29,
   "metadata": {},
   "outputs": [],
   "source": [
    "Ns = train_data_multinomial['Label'].value_counts()['spam']\n",
    "Nh = train_data_multinomial['Label'].value_counts()['ham']\n",
    "\n",
    "def p_w_spam_multivariate(word):\n",
    "    if word in train_data_multinomial.columns:\n",
    "        Nwspam = train_data_multinomial.loc[train_data_multinomial['Label'] == 'spam', word].sum() \n",
    "        return (1 + Nwspam) / (2 + Ns)\n",
    "    else:\n",
    "        return 1\n",
    "\n",
    "\n",
    "def p_w_ham_multivariate(word):\n",
    "    if word in train_data_multinomial.columns:\n",
    "        Nwham = train_data_multinomial.loc[train_data_multinomial['Label'] == 'ham', word].sum()\n",
    "        return (1 + Nwham) / (2 + Nh)\n",
    "    else:\n",
    "        return 1\n"
   ]
  },
  {
   "cell_type": "markdown",
   "metadata": {},
   "source": [
    "### Modify the classificator"
   ]
  },
  {
   "cell_type": "code",
   "execution_count": 30,
   "metadata": {},
   "outputs": [],
   "source": [
    "def log_classify_multivariate(message):\n",
    "    message = dict.fromkeys(message)\n",
    "    p_spam_given_message = log(Pspam)\n",
    "    p_ham_given_message = log(Pham)\n",
    "    for word in message:\n",
    "        p_spam_given_message += log(p_w_spam_multivariate(word))\n",
    "        p_ham_given_message += log(p_w_ham_multivariate(word))\n",
    "    if p_ham_given_message > p_spam_given_message:\n",
    "        return 'ham'\n",
    "    elif p_ham_given_message < p_spam_given_message:\n",
    "        return 'spam'\n",
    "    else:\n",
    "        return 'needs human classification'\n"
   ]
  },
  {
   "cell_type": "markdown",
   "metadata": {},
   "source": [
    "### Testing on the data test"
   ]
  },
  {
   "cell_type": "code",
   "execution_count": 31,
   "metadata": {},
   "outputs": [],
   "source": [
    "test_data['predicted Multivariate'] = test_data['SMS'].apply(log_classify_multivariate)"
   ]
  },
  {
   "cell_type": "code",
   "execution_count": 32,
   "metadata": {},
   "outputs": [
    {
     "data": {
      "text/html": [
       "<div>\n",
       "<style scoped>\n",
       "    .dataframe tbody tr th:only-of-type {\n",
       "        vertical-align: middle;\n",
       "    }\n",
       "\n",
       "    .dataframe tbody tr th {\n",
       "        vertical-align: top;\n",
       "    }\n",
       "\n",
       "    .dataframe thead th {\n",
       "        text-align: right;\n",
       "    }\n",
       "</style>\n",
       "<table border=\"1\" class=\"dataframe\">\n",
       "  <thead>\n",
       "    <tr style=\"text-align: right;\">\n",
       "      <th></th>\n",
       "      <th>Label</th>\n",
       "      <th>SMS</th>\n",
       "      <th>predicted Multinomial</th>\n",
       "      <th>predicted Multivariate</th>\n",
       "    </tr>\n",
       "  </thead>\n",
       "  <tbody>\n",
       "    <tr>\n",
       "      <th>0</th>\n",
       "      <td>ham</td>\n",
       "      <td>[aight, should, i, just, plan, to, come, up, l...</td>\n",
       "      <td>ham</td>\n",
       "      <td>ham</td>\n",
       "    </tr>\n",
       "    <tr>\n",
       "      <th>1</th>\n",
       "      <td>ham</td>\n",
       "      <td>[die, i, accidentally, deleted, e, msg, i, sup...</td>\n",
       "      <td>ham</td>\n",
       "      <td>ham</td>\n",
       "    </tr>\n",
       "    <tr>\n",
       "      <th>2</th>\n",
       "      <td>spam</td>\n",
       "      <td>[welcome, to, uk, mobile, date, this, msg, is,...</td>\n",
       "      <td>spam</td>\n",
       "      <td>spam</td>\n",
       "    </tr>\n",
       "    <tr>\n",
       "      <th>3</th>\n",
       "      <td>ham</td>\n",
       "      <td>[this, is, wishing, you, a, great, day, moji, ...</td>\n",
       "      <td>ham</td>\n",
       "      <td>ham</td>\n",
       "    </tr>\n",
       "    <tr>\n",
       "      <th>4</th>\n",
       "      <td>ham</td>\n",
       "      <td>[thanks, again, for, your, reply, today, when,...</td>\n",
       "      <td>ham</td>\n",
       "      <td>ham</td>\n",
       "    </tr>\n",
       "  </tbody>\n",
       "</table>\n",
       "</div>"
      ],
      "text/plain": [
       "  Label                                                SMS  \\\n",
       "0   ham  [aight, should, i, just, plan, to, come, up, l...   \n",
       "1   ham  [die, i, accidentally, deleted, e, msg, i, sup...   \n",
       "2  spam  [welcome, to, uk, mobile, date, this, msg, is,...   \n",
       "3   ham  [this, is, wishing, you, a, great, day, moji, ...   \n",
       "4   ham  [thanks, again, for, your, reply, today, when,...   \n",
       "\n",
       "  predicted Multinomial predicted Multivariate  \n",
       "0                   ham                    ham  \n",
       "1                   ham                    ham  \n",
       "2                  spam                   spam  \n",
       "3                   ham                    ham  \n",
       "4                   ham                    ham  "
      ]
     },
     "execution_count": 32,
     "metadata": {},
     "output_type": "execute_result"
    }
   ],
   "source": [
    "test_data.head()"
   ]
  },
  {
   "cell_type": "code",
   "execution_count": 33,
   "metadata": {},
   "outputs": [
    {
     "name": "stdout",
     "output_type": "stream",
     "text": [
      "The correct prediction are 87.97%\n"
     ]
    }
   ],
   "source": [
    "correct = (test_data['predicted Multivariate'] == test_data['Label']).sum() / test_data.shape[0] * 100\n",
    "print(f'The correct prediction are {correct:.2f}%')\n"
   ]
  },
  {
   "cell_type": "markdown",
   "metadata": {},
   "source": [
    "Uncorrect Prediction"
   ]
  },
  {
   "cell_type": "code",
   "execution_count": 34,
   "metadata": {},
   "outputs": [
    {
     "data": {
      "text/html": [
       "<div>\n",
       "<style scoped>\n",
       "    .dataframe tbody tr th:only-of-type {\n",
       "        vertical-align: middle;\n",
       "    }\n",
       "\n",
       "    .dataframe tbody tr th {\n",
       "        vertical-align: top;\n",
       "    }\n",
       "\n",
       "    .dataframe thead th {\n",
       "        text-align: right;\n",
       "    }\n",
       "</style>\n",
       "<table border=\"1\" class=\"dataframe\">\n",
       "  <thead>\n",
       "    <tr style=\"text-align: right;\">\n",
       "      <th></th>\n",
       "      <th>Label</th>\n",
       "      <th>SMS</th>\n",
       "      <th>predicted Multinomial</th>\n",
       "      <th>predicted Multivariate</th>\n",
       "    </tr>\n",
       "  </thead>\n",
       "  <tbody>\n",
       "    <tr>\n",
       "      <th>7</th>\n",
       "      <td>ham</td>\n",
       "      <td>[ranjith, cal, drpd, deeraj, and, deepak, 5min...</td>\n",
       "      <td>ham</td>\n",
       "      <td>spam</td>\n",
       "    </tr>\n",
       "    <tr>\n",
       "      <th>8</th>\n",
       "      <td>ham</td>\n",
       "      <td>[cheers, for, callin, babe, sozi, culdnt, talk...</td>\n",
       "      <td>ham</td>\n",
       "      <td>spam</td>\n",
       "    </tr>\n",
       "    <tr>\n",
       "      <th>20</th>\n",
       "      <td>ham</td>\n",
       "      <td>[oh, only, 4, outside, players, allowed, to, p...</td>\n",
       "      <td>ham</td>\n",
       "      <td>spam</td>\n",
       "    </tr>\n",
       "    <tr>\n",
       "      <th>22</th>\n",
       "      <td>ham</td>\n",
       "      <td>[erutupalam, thandiyachu]</td>\n",
       "      <td>ham</td>\n",
       "      <td>spam</td>\n",
       "    </tr>\n",
       "    <tr>\n",
       "      <th>30</th>\n",
       "      <td>ham</td>\n",
       "      <td>[miss, call, miss, call, khelate, kintu, oppon...</td>\n",
       "      <td>ham</td>\n",
       "      <td>spam</td>\n",
       "    </tr>\n",
       "    <tr>\n",
       "      <th>...</th>\n",
       "      <td>...</td>\n",
       "      <td>...</td>\n",
       "      <td>...</td>\n",
       "      <td>...</td>\n",
       "    </tr>\n",
       "    <tr>\n",
       "      <th>1075</th>\n",
       "      <td>ham</td>\n",
       "      <td>[hey, chief, can, you, give, me, a, bell, when...</td>\n",
       "      <td>ham</td>\n",
       "      <td>spam</td>\n",
       "    </tr>\n",
       "    <tr>\n",
       "      <th>1084</th>\n",
       "      <td>ham</td>\n",
       "      <td>[armand, says, get, your, ass, over, to, epsilon]</td>\n",
       "      <td>ham</td>\n",
       "      <td>spam</td>\n",
       "    </tr>\n",
       "    <tr>\n",
       "      <th>1094</th>\n",
       "      <td>ham</td>\n",
       "      <td>[have, a, safe, trip, to, nigeria, wish, you, ...</td>\n",
       "      <td>ham</td>\n",
       "      <td>spam</td>\n",
       "    </tr>\n",
       "    <tr>\n",
       "      <th>1095</th>\n",
       "      <td>ham</td>\n",
       "      <td>[hahaha, use, your, brain, dear]</td>\n",
       "      <td>ham</td>\n",
       "      <td>spam</td>\n",
       "    </tr>\n",
       "    <tr>\n",
       "      <th>1096</th>\n",
       "      <td>ham</td>\n",
       "      <td>[well, keep, in, mind, i, ve, only, got, enoug...</td>\n",
       "      <td>ham</td>\n",
       "      <td>spam</td>\n",
       "    </tr>\n",
       "  </tbody>\n",
       "</table>\n",
       "<p>134 rows × 4 columns</p>\n",
       "</div>"
      ],
      "text/plain": [
       "     Label                                                SMS  \\\n",
       "7      ham  [ranjith, cal, drpd, deeraj, and, deepak, 5min...   \n",
       "8      ham  [cheers, for, callin, babe, sozi, culdnt, talk...   \n",
       "20     ham  [oh, only, 4, outside, players, allowed, to, p...   \n",
       "22     ham                          [erutupalam, thandiyachu]   \n",
       "30     ham  [miss, call, miss, call, khelate, kintu, oppon...   \n",
       "...    ...                                                ...   \n",
       "1075   ham  [hey, chief, can, you, give, me, a, bell, when...   \n",
       "1084   ham  [armand, says, get, your, ass, over, to, epsilon]   \n",
       "1094   ham  [have, a, safe, trip, to, nigeria, wish, you, ...   \n",
       "1095   ham                   [hahaha, use, your, brain, dear]   \n",
       "1096   ham  [well, keep, in, mind, i, ve, only, got, enoug...   \n",
       "\n",
       "     predicted Multinomial predicted Multivariate  \n",
       "7                      ham                   spam  \n",
       "8                      ham                   spam  \n",
       "20                     ham                   spam  \n",
       "22                     ham                   spam  \n",
       "30                     ham                   spam  \n",
       "...                    ...                    ...  \n",
       "1075                   ham                   spam  \n",
       "1084                   ham                   spam  \n",
       "1094                   ham                   spam  \n",
       "1095                   ham                   spam  \n",
       "1096                   ham                   spam  \n",
       "\n",
       "[134 rows x 4 columns]"
      ]
     },
     "execution_count": 34,
     "metadata": {},
     "output_type": "execute_result"
    }
   ],
   "source": [
    "test_data.loc[test_data['predicted Multivariate'] != test_data['Label']]"
   ]
  },
  {
   "cell_type": "markdown",
   "metadata": {},
   "source": [
    "## Conclusion"
   ]
  },
  {
   "cell_type": "markdown",
   "metadata": {},
   "source": [
    "Naive Bayes is a very simple algorithm that performs equally well against much more complex classifiers in many cases, and even occasionally outperforms them. It also does not classify the email on the basis of one or two words, but instead takes into account every single relevant word. Another benefit of Bayesian filtering is that it is constantly adapting to new forms of spam. One of the most significant disadvantages of Bayesian filtering is that the filter depends entirely upon the training data\n",
    "that is provided by the user, which is classified into spam and ham prior to training the model.\n",
    "In this particular field of application and using this dataset the Multinomial perform better then the Multivariate."
   ]
  }
 ],
 "metadata": {
  "kernelspec": {
   "display_name": "Python 3.9.12 ('FAIKR3')",
   "language": "python",
   "name": "python3"
  },
  "language_info": {
   "codemirror_mode": {
    "name": "ipython",
    "version": 3
   },
   "file_extension": ".py",
   "mimetype": "text/x-python",
   "name": "python",
   "nbconvert_exporter": "python",
   "pygments_lexer": "ipython3",
   "version": "3.9.12"
  },
  "orig_nbformat": 4,
  "vscode": {
   "interpreter": {
    "hash": "b1271c15daf27ce1261d6a1134f79b209dab52771e7f933454657a66d1b3a73a"
   }
  }
 },
 "nbformat": 4,
 "nbformat_minor": 2
}
